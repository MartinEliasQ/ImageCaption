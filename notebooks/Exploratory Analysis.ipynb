{
 "cells": [
  {
   "cell_type": "code",
   "execution_count": 1,
   "metadata": {},
   "outputs": [],
   "source": [
    "# from dts import load_images\n",
    "import sys\n",
    "import string\n",
    "sys.path.append(\"..\")\n",
    "\n",
    "from icg.processing import (text, image, dataset)"
   ]
  },
  {
   "cell_type": "code",
   "execution_count": 2,
   "metadata": {},
   "outputs": [],
   "source": [
    "TOKEN_TXT = \"../src/txt/Flickr8k.token.txt\"\n",
    "URL_TEXT = \"https://github.com/jbrownlee/Datasets/releases/download/Flickr8k/Flickr8k_text.zip\"\n",
    "URL_IMAGES =  \"https://github.com/jbrownlee/Datasets/releases/download/Flickr8k/Flickr8k_Dataset.zip\""
   ]
  },
  {
   "cell_type": "code",
   "execution_count": 3,
   "metadata": {},
   "outputs": [
    {
     "data": {
      "text/plain": [
       "'Flickr8k_text.zip'"
      ]
     },
     "execution_count": 3,
     "metadata": {},
     "output_type": "execute_result"
    }
   ],
   "source": [
    "URL_TEXT.split(\"/\")[-1]"
   ]
  },
  {
   "cell_type": "code",
   "execution_count": 4,
   "metadata": {},
   "outputs": [],
   "source": []
  },
  {
   "cell_type": "code",
   "execution_count": 5,
   "metadata": {},
   "outputs": [
    {
     "name": "stdout",
     "output_type": "stream",
     "text": [
      "Downloading : https://github.com/jbrownlee/Datasets/releases/download/Flickr8k/Flickr8k_Dataset.zip in ../src/dataset\n",
      "It could take a few minutes\n",
      "An error occured : download\n",
      "Unzip... ../src/dataset/Flickr8k_Dataset.zip in ../src/dataset/Flickr8k_Dataset \n",
      "An error occured: unzip\n",
      "Downloading : https://github.com/jbrownlee/Datasets/releases/download/Flickr8k/Flickr8k_text.zip in ../src/dataset\n",
      "It could take a few minutes\n",
      "Unzip... ../src/dataset/Flickr8k_text.zip in ../src/dataset/Flickr8k_text \n"
     ]
    }
   ],
   "source": [
    "get_dataset(URL_IMAGES, URL_TEXT, dest=\"../src/dataset\")"
   ]
  }
 ],
 "metadata": {
  "kernelspec": {
   "display_name": "martin",
   "language": "python",
   "name": "martin"
  },
  "language_info": {
   "codemirror_mode": {
    "name": "ipython",
    "version": 3
   },
   "file_extension": ".py",
   "mimetype": "text/x-python",
   "name": "python",
   "nbconvert_exporter": "python",
   "pygments_lexer": "ipython3",
   "version": "3.6.8"
  }
 },
 "nbformat": 4,
 "nbformat_minor": 2
}
